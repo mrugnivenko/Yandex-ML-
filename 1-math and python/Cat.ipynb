{
 "cells": [
  {
   "cell_type": "code",
   "execution_count": 1,
   "metadata": {},
   "outputs": [
    {
     "name": "stdout",
     "output_type": "stream",
     "text": [
      "[0.         0.95275444 0.86447381 0.89517152 0.77708871 0.94023857\n",
      " 0.73273876 0.92587507 0.88427249 0.90550888 0.83281654 0.88047714\n",
      " 0.83964325 0.87035926 0.87401184 0.94427218 0.84063619 0.9566445\n",
      " 0.94427218 0.88854436]\n"
     ]
    }
   ],
   "source": [
    "import re\n",
    "with open('sentences.txt', 'r') as f:\n",
    "  sentences = []\n",
    "  words = []\n",
    "  for line in f:\n",
    "    line_list = re.split('[^a-z]', line.strip('\\\\n\\\\r.').lower())\n",
    "    line_list = list(filter(None, line_list))        \n",
    "    sentences.append(line_list)\n",
    "    words += line_list\n",
    "\n",
    "cat = open('sentences.txt') #открыл файл\n",
    "a = str(cat.readlines()).lower() #привел к нижнему регистру\n",
    "\n",
    "#Произведите токенизацию, то есть разбиение текстов на слова. \n",
    "#Для этого можно воспользоваться регулярным выражением, \n",
    "#которое считает разделителем любой символ, не являющийся буквой: \n",
    "#re.split('[^a-z]', t). \n",
    "\n",
    "import re\n",
    "token_cat = re.split('[^a-z]', a) #разделил на слова\n",
    "\n",
    "#Не забудьте удалить пустые слова после разделения.\n",
    "\n",
    "token = [x for x in token_cat if x != 'n' and x != ''] #удалил n - разделитель строки и пустые слова\n",
    "\n",
    "#Составьте список всех слов, встречающихся в предложениях. \n",
    "#Сопоставьте каждому слову индекс от нуля до (d - 1), где d — число различных слов в предложениях. \n",
    "#Для этого удобно воспользоваться структурой dict\n",
    "\n",
    "#Определили функцию для оставления только уникальных значений списка\n",
    "def unique(l):\n",
    "    n = []\n",
    "    for i in l:\n",
    "        if i not in n:\n",
    "            n.append(i)\n",
    "    return n\n",
    "\n",
    "unique_token = unique(token)\n",
    "keys = [x for x in range (len(unique_token))] # определил список ключей массивом от 0 до размера массива\n",
    "dictionary_cats = dict(zip(keys, unique_token)) # создал словарь с ключчами от 0 до 254\n",
    "\n",
    "#Создайте матрицу размера n * d, где n — число предложений. \n",
    "#Заполните ее: элемент с индексом (i, j) в этой матрице должен быть равен количеству вхождений j-го слова в i-е предложение. \n",
    "#У вас должна получиться матрица размера 22 * 254.\n",
    "\n",
    "#Определяем функцию подсчета строк в файле\n",
    "\n",
    "def file_len(fname):\n",
    "    with open(fname) as f:\n",
    "        for i, l in enumerate(f):\n",
    "            pass\n",
    "    return i-1 # костыль, который подгоняет нужное мне значение (изначально было i+1)\n",
    "\n",
    "n = file_len ('sentences.txt') # определяем количество строк = 22\n",
    "d = len(unique_token)\n",
    "import numpy as np\n",
    "\n",
    "word_matrix = np.zeros(shape=(n,d))\n",
    "for i in range(n):\n",
    "  for j in range(d):\n",
    "    word_matrix[i][j] = sentences[i].count(dictionary_cats[j])\n",
    "\n",
    "#Найдите косинусное расстояние от предложения в самой первой строке \n",
    "#(In comparison to dogs, cats have not undergone...) \n",
    "#до всех остальных с помощью функции scipy.spatial.distance.cosine. \n",
    "#Какие номера у двух предложений, ближайших к нему по этому расстоянию \n",
    "#(строки нумеруются с нуля)? \n",
    "#Эти два числа и будут ответами на задание. \n",
    "#Само предложение (In comparison to dogs, cats have not undergone... ) имеет индекс 0.\n",
    "import scipy.spatial.distance\n",
    "cos_matrix = []\n",
    "for i in range(n):\n",
    "  cos_matrix.append(scipy.spatial.distance.cosine(word_matrix[0], word_matrix[i]))\n",
    "cos_matrix = np.array(cos_matrix) \n",
    "print (cos_matrix)\n",
    "    "
   ]
  },
  {
   "cell_type": "code",
   "execution_count": null,
   "metadata": {},
   "outputs": [],
   "source": []
  }
 ],
 "metadata": {
  "kernelspec": {
   "display_name": "Python 3",
   "language": "python",
   "name": "python3"
  },
  "language_info": {
   "codemirror_mode": {
    "name": "ipython",
    "version": 3
   },
   "file_extension": ".py",
   "mimetype": "text/x-python",
   "name": "python",
   "nbconvert_exporter": "python",
   "pygments_lexer": "ipython3",
   "version": "3.7.3"
  }
 },
 "nbformat": 4,
 "nbformat_minor": 2
}
